{
 "cells": [
  {
   "cell_type": "code",
   "execution_count": 202,
   "metadata": {},
   "outputs": [
    {
     "data": {
      "text/plain": [
       "'\\nsess = tf.compat.v1.Session()\\nsess.run(tf.compat.v1.global_variables_initializer())\\nfor epoch in range(101):\\n    for (_x, _y) in zip(x_data, y_data):\\n        sess.run(train, feed_dict={X: _x, Y: _y})\\n    if epoch%5000==0:\\n        print(\"# cost: \", sess.run(cost, feed_dict={X: x_data, Y: y_data}))\\n#ValueError: Cannot feed value of shape (0, 31399, 50) for Tensor \\'Placeholder_24:0\\', which has shape \\'(1, 50)\\'\\n'"
      ]
     },
     "execution_count": 202,
     "metadata": {},
     "output_type": "execute_result"
    }
   ],
   "source": [
    "import tensorflow as tf\n",
    "import numpy as np\n",
    "import pandas as pd\n",
    "'''\n",
    "sess = tf.compat.v1.Session()\n",
    "sess.run(tf.compat.v1.global_variables_initializer())\n",
    "for epoch in range(101):\n",
    "    for (_x, _y) in zip(x_data, y_data):\n",
    "        sess.run(train, feed_dict={X: _x, Y: _y})\n",
    "    if epoch%5000==0:\n",
    "        print(\"# cost: \", sess.run(cost, feed_dict={X: x_data, Y: y_data}))\n",
    "#ValueError: Cannot feed value of shape (0, 31399, 50) for Tensor 'Placeholder_24:0', which has shape '(1, 50)'\n",
    "'''"
   ]
  },
  {
   "cell_type": "code",
   "execution_count": 203,
   "metadata": {},
   "outputs": [],
   "source": [
    "import csv\n",
    "from math import sin\n",
    "\n",
    "a = []\n",
    "A = 0.1\n",
    "i = A\n",
    "cnt = i\n",
    "while i<=3.14:\n",
    "    q = []\n",
    "    q.append(cnt)\n",
    "    for j in range(2,11,2):\n",
    "        #ins = round(i**j,j)\n",
    "        q.append(i**j)\n",
    "    q.append(sin(i))\n",
    "    \n",
    "    a.append(q)\n",
    "    #print(q)\n",
    "    #print('##',a)\n",
    "    i += A\n",
    "    cnt += A\n",
    "\n",
    "with open('sinL.csv', 'w', newline='') as csvfile:\n",
    "    writer = csv.writer(csvfile)\n",
    "    for i in a:\n",
    "        writer.writerow(i)"
   ]
  },
  {
   "cell_type": "code",
   "execution_count": 204,
   "metadata": {},
   "outputs": [],
   "source": [
    "init = tf.compat.v1.global_variables_initializer()"
   ]
  },
  {
   "cell_type": "code",
   "execution_count": 205,
   "metadata": {},
   "outputs": [
    {
     "name": "stdout",
     "output_type": "stream",
     "text": [
      "   0.1  0.010000000000000002  0.00010000000000000002  1.0000000000000004e-06  \\\n",
      "0  0.2                  0.04                  0.0016                0.000064   \n",
      "\n",
      "   1.0000000000000005e-08  1.0000000000000006e-10  0.09983341664682815  \n",
      "0                0.000003            1.024000e-07             0.198669  \n"
     ]
    }
   ],
   "source": [
    "data = pd.read_csv('sinL.csv', sep=',')\n",
    "print(data[:1])"
   ]
  },
  {
   "cell_type": "code",
   "execution_count": 206,
   "metadata": {},
   "outputs": [],
   "source": [
    "xy = np.array(data, dtype=np.float32)"
   ]
  },
  {
   "cell_type": "code",
   "execution_count": 207,
   "metadata": {},
   "outputs": [
    {
     "name": "stdout",
     "output_type": "stream",
     "text": [
      "30 7\n",
      "30 5\n",
      "30 1\n",
      "[[0.19866933]\n",
      " [0.29552022]\n",
      " [0.38941833]\n",
      " [0.47942555]\n",
      " [0.5646425 ]]\n",
      "[[4.0000e-02 1.6000e-03 6.4000e-05 2.5600e-06 1.0240e-07]\n",
      " [9.0000e-02 8.1000e-03 7.2900e-04 6.5610e-05 5.9049e-06]]\n"
     ]
    }
   ],
   "source": [
    "x_data = xy[:, 1:-1]\n",
    "y_data = xy[:, [-1]]\n",
    "print(len(xy),len(xy[0]))\n",
    "#print(xy)\n",
    "print(len(x_data),len(x_data[0]))\n",
    "print(len(y_data),len(y_data[0]))\n",
    "print(y_data[:5])\n",
    "print(x_data[:2])\n",
    "#x_data = x_data.reshape((-1,31399,50))\n",
    "#y_data = y_data.reshape((-1,31399,1))"
   ]
  },
  {
   "cell_type": "code",
   "execution_count": 208,
   "metadata": {},
   "outputs": [],
   "source": [
    "X = tf.compat.v1.placeholder(tf.float32, shape=[None, 5])\n",
    "Y = tf.compat.v1.placeholder(tf.float32, shape=[None, 1]) #None은 아무숫자나 가능하다는 의미\n",
    "W = tf.Variable(tf.random.normal([5,1], mean=0.1014, stddev=0.1), name=\"weight\")\n",
    "b = tf.Variable(tf.random.normal([1]), name=\"bias\")\n",
    "#b = tf.cast(b, dtype=tf.float64)"
   ]
  },
  {
   "cell_type": "code",
   "execution_count": 209,
   "metadata": {},
   "outputs": [],
   "source": [
    "hypothesis = 1 + tf.matmul(X, W) "
   ]
  },
  {
   "cell_type": "code",
   "execution_count": 210,
   "metadata": {},
   "outputs": [],
   "source": [
    "cost = tf.reduce_mean(tf.square(hypothesis - Y))\n",
    "optimizer = tf.compat.v1.train.GradientDescentOptimizer(learning_rate=1e-10)\n",
    "train = optimizer.minimize(cost)"
   ]
  },
  {
   "cell_type": "code",
   "execution_count": 216,
   "metadata": {
    "scrolled": true
   },
   "outputs": [
    {
     "name": "stdout",
     "output_type": "stream",
     "text": [
      "0 13729903.0 [[1.0015717]\n",
      " [1.0039457]\n",
      " [1.0082386]]\n",
      "1000 2994.1792 [[1.0015686]\n",
      " [1.0039331]\n",
      " [1.0081757]]\n",
      "2000 2917.1885 [[1.0015672]\n",
      " [1.0039289]\n",
      " [1.0081635]]\n",
      "3000 2842.1802 [[1.0015659]\n",
      " [1.0039247]\n",
      " [1.0081514]]\n",
      "4000 2769.1206 [[1.0015646]\n",
      " [1.0039207]\n",
      " [1.0081394]]\n",
      "5000 2697.9246 [[1.0015633]\n",
      " [1.0039166]\n",
      " [1.0081273]]\n",
      "6000 2628.5457 [[1.001562 ]\n",
      " [1.0039126]\n",
      " [1.0081154]]\n",
      "7000 2560.9568 [[1.0015609]\n",
      " [1.0039089]\n",
      " [1.0081043]]\n",
      "8000 2495.124 [[1.0015597]\n",
      " [1.0039052]\n",
      " [1.0080934]]\n",
      "9000 2430.983 [[1.0015587]\n",
      " [1.0039015]\n",
      " [1.0080824]]\n",
      "10000 2368.4844 [[1.0015575]\n",
      " [1.0038979]\n",
      " [1.0080714]]\n",
      "###\n",
      "[[ 0.03577676]\n",
      " [ 0.07584766]\n",
      " [ 0.07187279]\n",
      " [ 0.172712  ]\n",
      " [-0.02034253]]\n",
      "[[5.536519]]\n"
     ]
    }
   ],
   "source": [
    "with tf.Session() as sess:\n",
    "    sess.run(tf.global_variables_initializer())\n",
    "    for step in range(10001):\n",
    "        cost_, hypo_, _ = sess.run([cost,hypothesis, train] , feed_dict={X: x_data, Y: y_data})\n",
    "        if step%1000==0:\n",
    "            print(step,cost_,hypo_[:3])\n",
    "    print(\"###\")\n",
    "    print(sess.run(W))\n",
    "    w0 = sess.run(W)\n",
    "    print(sess.run(hypothesis, feed_dict={X:[[2.25,5.0625,11.390625,25.62890625,57.66503906]]}))\n",
    "    "
   ]
  },
  {
   "cell_type": "code",
   "execution_count": 215,
   "metadata": {},
   "outputs": [
    {
     "data": {
      "text/plain": [
       "array([[ 0.2449404 ],\n",
       "       [ 0.09231102],\n",
       "       [ 0.25182733],\n",
       "       [ 0.11142299],\n",
       "       [-0.01582397]], dtype=float32)"
      ]
     },
     "execution_count": 215,
     "metadata": {},
     "output_type": "execute_result"
    }
   ],
   "source": [
    "w0"
   ]
  },
  {
   "cell_type": "code",
   "execution_count": null,
   "metadata": {},
   "outputs": [],
   "source": []
  }
 ],
 "metadata": {
  "kernelspec": {
   "display_name": "Python 3",
   "language": "python",
   "name": "python3"
  },
  "language_info": {
   "codemirror_mode": {
    "name": "ipython",
    "version": 3
   },
   "file_extension": ".py",
   "mimetype": "text/x-python",
   "name": "python",
   "nbconvert_exporter": "python",
   "pygments_lexer": "ipython3",
   "version": "3.7.4"
  }
 },
 "nbformat": 4,
 "nbformat_minor": 2
}

